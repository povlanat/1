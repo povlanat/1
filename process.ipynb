{
 "cells": [
  {
   "cell_type": "markdown",
   "id": "ceba6b92",
   "metadata": {},
   "source": [
    "# Подготовка датасета\n",
    "\n",
    "Модель YOLOv8 использует датасет в формата YOLOv5 PyTorch TXT.\n",
    "\n",
    "001.txt\n",
    "```console\n",
    "1 0.617 0.3594420600858369 0.114 0.17381974248927037\n",
    "1 0.094 0.38626609442060084 0.156 0.23605150214592274\n",
    "1 0.295 0.3959227467811159 0.13 0.19527896995708155\n",
    "\n",
    "class_id center_x center_y width height\n",
    "```\n",
    "\n",
    "![Пример формата YOLOv5](https://assets-global.website-files.com/5f6bc60e665f54545a1e52a5/614cd66c5d86816d057ef364_yolov5-coordinates.jpeg \"Пример формата YOLOv5\")\n",
    "\n",
    "\n",
    "Так как аннотации сделаны в формате vgg json необходимо их трансформировать.\n",
    "Для этого я переименовал в датаете директории на 1, 2, 3 ... в соответствии с названиями файлов аннотаций 1.json, 2.json ...\n"
   ]
  },
  {
   "cell_type": "code",
   "execution_count": 33,
   "id": "124aecc3",
   "metadata": {},
   "outputs": [],
   "source": [
    "import json\n",
    "import shutil\n",
    "import cv2\n",
    "import os\n",
    "import random\n",
    "import string\n",
    "\n",
    "for i in range(1, 8):\n",
    "    f = open(f'dataset/{i}.json')\n",
    "    data = json.loads(f.read())\n",
    "    for item in data.items():\n",
    "        filename_rand = ''.join(random.choices(string.ascii_uppercase + string.digits, k=5))\n",
    "        filename = '.'.join(item[1]['filename'].split('.')[:-1])\n",
    "        file_ext = item[1]['filename'].split('.')[-1]\n",
    "        img_path = f'dataset/images/{i}/{filename}.{file_ext}'\n",
    "        if not os.path.isfile(img_path):\n",
    "            continue\n",
    "        image = cv2.imread(img_path)\n",
    "        (image_height, image_width, channels) = image.shape\n",
    "        lines = list()\n",
    "        for region in item[1]['regions']:\n",
    "            center_x = (region['shape_attributes']['x'] + region['shape_attributes']['width'] / 2) / image_width \n",
    "            center_y = (region['shape_attributes']['y'] + region['shape_attributes']['height'] / 2) / image_height\n",
    "            region_width = region['shape_attributes']['width'] / image_width\n",
    "            region_height = region['shape_attributes']['height'] / image_height\n",
    "            lines.append(f'{i - 1} {center_x} {center_y} {region_width} {region_height}')\n",
    "        if len(lines) == 0:\n",
    "            continue\n",
    "        f = open(f'dataset/train/labels/{filename_rand}.txt', 'w')\n",
    "        f.write('\\n'.join(lines))\n",
    "        f.close()\n",
    "        img_dst = f'dataset/train/images/{filename_rand}.{file_ext}'\n",
    "        shutil.copyfile(img_path, img_dst)\n",
    "        \n",
    "            "
   ]
  },
  {
   "cell_type": "markdown",
   "id": "4bc77d4a",
   "metadata": {},
   "source": [
    "# Обучение модели\n",
    "\n",
    "Для обучения модели необходимо иметь видеокарту, при отсутствии можно воспользоваться гугл колабом\n",
    "https://colab.research.google.com/drive/15-kkwkjGuQSWrxrHNLJZU8S8HtWEADGx?usp=sharing"
   ]
  },
  {
   "cell_type": "markdown",
   "id": "4d14cf3d",
   "metadata": {},
   "source": [
    "# Использование модели\n",
    "\n",
    "Запуск веб-сервера \n",
    "\n",
    "```console\n",
    "python server.py\n",
    "```\n",
    "\n",
    "Отправлять POST-запрос с картинками в body (название параметра любое) на url http://localhost:8100/predict\n",
    "\n",
    "Использование модели в питоне"
   ]
  },
  {
   "cell_type": "code",
   "execution_count": null,
   "id": "615e1a9f",
   "metadata": {},
   "outputs": [],
   "source": [
    "from ultralytics import YOLO\n",
    "\n",
    "model = YOLO('best.pt')\n",
    "# Можно на вход подать картинку или список картинок\n",
    "results = model.predict('uploads/wiiojecpad-2ndary_efflorescence_09.jpg')\n",
    "print(results)"
   ]
  }
 ],
 "metadata": {
  "kernelspec": {
   "display_name": "Python 3 (ipykernel)",
   "language": "python",
   "name": "python3"
  },
  "language_info": {
   "codemirror_mode": {
    "name": "ipython",
    "version": 3
   },
   "file_extension": ".py",
   "mimetype": "text/x-python",
   "name": "python",
   "nbconvert_exporter": "python",
   "pygments_lexer": "ipython3",
   "version": "3.9.7"
  }
 },
 "nbformat": 4,
 "nbformat_minor": 5
}
